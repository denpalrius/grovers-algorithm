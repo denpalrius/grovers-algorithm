{
 "cells": [
  {
   "cell_type": "markdown",
   "metadata": {},
   "source": [
    "# Grover's Algorithm (2 qubits)"
   ]
  },
  {
   "cell_type": "code",
   "execution_count": 107,
   "metadata": {},
   "outputs": [],
   "source": [
    "from qiskit import QuantumCircuit, transpile\n",
    "from qiskit_aer import Aer\n",
    "import numpy as np"
   ]
  },
  {
   "cell_type": "markdown",
   "metadata": {},
   "source": [
    "# Circuit creation (Superposition)"
   ]
  },
  {
   "cell_type": "code",
   "execution_count": 108,
   "metadata": {},
   "outputs": [
    {
     "data": {
      "image/png": "[encoded data removed]",
      "text/plain": [
       "<Figure size 203.683x284.278 with 1 Axes>"
      ]
     },
     "execution_count": 108,
     "metadata": {},
     "output_type": "execute_result"
    }
   ],
   "source": [
    "# Create a 2-qubit Grover circuit\n",
    "grover_circuit = QuantumCircuit(2, 2)\n",
    "\n",
    "# Apply Hadamard gates to both qubits to create a superposition\n",
    "grover_circuit.h([0, 1])\n",
    "\n",
    "# Draw the circuit\n",
    "grover_circuit.draw('mpl')"
   ]
  },
  {
   "cell_type": "markdown",
   "metadata": {},
   "source": [
    "# The Quantum Oracle"
   ]
  },
  {
   "cell_type": "code",
   "execution_count": 109,
   "metadata": {},
   "outputs": [
    {
     "data": {
      "image/png": "[encoded data removed]",
      "text/plain": [
       "<Figure size 370.906x284.278 with 1 Axes>"
      ]
     },
     "execution_count": 109,
     "metadata": {},
     "output_type": "execute_result"
    }
   ],
   "source": [
    "# Create a quantum circuit on 2 qubits\n",
    "oracle = QuantumCircuit(2, name='oracle')\n",
    "\n",
    "# Create a 2-qubit oracle\n",
    "oracle.cz(0, 1)\n",
    "\n",
    "oracle.to_gate()\n",
    "\n",
    "# Append the oracle gate to the grover circuit\n",
    "grover_circuit.append(oracle, [0, 1])\n",
    "\n",
    "grover_circuit.draw('mpl')"
   ]
  },
  {
   "cell_type": "markdown",
   "metadata": {},
   "source": [
    "# Local simulation"
   ]
  },
  {
   "cell_type": "code",
   "execution_count": 110,
   "metadata": {},
   "outputs": [
    {
     "data": {
      "text/plain": [
       "array([ 0.5+0.j,  0.5+0.j,  0.5+0.j, -0.5+0.j])"
      ]
     },
     "execution_count": 110,
     "metadata": {},
     "output_type": "execute_result"
    }
   ],
   "source": [
    "# Simulate the circuit using the statevector simulator\n",
    "backend = Aer.get_backend('statevector_simulator')\n",
    "job = backend.run(transpile(grover_circuit, backend))\n",
    "result = job.result()\n",
    "\n",
    "# Get the statevector of the circuit\n",
    "sv = result.get_statevector()\n",
    "np.round(sv, 2)"
   ]
  },
  {
   "cell_type": "markdown",
   "metadata": {},
   "source": [
    "# Amplification\n",
    "- Perform reflection"
   ]
  },
  {
   "cell_type": "code",
   "execution_count": 111,
   "metadata": {},
   "outputs": [
    {
     "data": {
      "image/png": "[encoded data removed]",
      "text/plain": [
       "<Figure size 454.517x200.667 with 1 Axes>"
      ]
     },
     "execution_count": 111,
     "metadata": {},
     "output_type": "execute_result"
    }
   ],
   "source": [
    "# Perform a reflection operation about the |00> state\n",
    "reflection = QuantumCircuit(2, name='reflection')\n",
    "\n",
    "# Apply Hadamard gates to both qubits\n",
    "reflection.h([0, 1])\n",
    "\n",
    "# Apply Pauli X gates to both qubits\n",
    "reflection.z([0, 1])\n",
    "\n",
    "# Apply a Controlled-Z gate\n",
    "reflection.cz(0, 1)\n",
    "\n",
    "# Apply Hadamard gates to both qubits to transform back to the computational basis\n",
    "reflection.h([0, 1])\n",
    "\n",
    "# Convert the reflection circuit to a gate\n",
    "reflection.to_gate()\n",
    "\n",
    "reflection.draw('mpl')"
   ]
  },
  {
   "cell_type": "markdown",
   "metadata": {},
   "source": [
    "# Complete Circuit"
   ]
  },
  {
   "cell_type": "code",
   "execution_count": 112,
   "metadata": {},
   "outputs": [
    {
     "data": {
      "image/png": "[encoded data removed]",
      "text/plain": [
       "<Figure size 705.35x284.278 with 1 Axes>"
      ]
     },
     "execution_count": 112,
     "metadata": {},
     "output_type": "execute_result"
    }
   ],
   "source": [
    "gc = QuantumCircuit(2, 2)\n",
    "\n",
    "# Apply Hadamard gates to both qubits\n",
    "gc.h([0, 1])\n",
    "\n",
    "# Append the oracle\n",
    "gc.append(oracle, [0, 1])\n",
    "\n",
    "# Append the reflection\n",
    "gc.append(reflection, [0, 1])\n",
    "\n",
    "# Measure the qubits\n",
    "gc.measure([0, 1], [0, 1])\n",
    "\n",
    "gc.draw('mpl')"
   ]
  },
  {
   "cell_type": "markdown",
   "metadata": {},
   "source": [
    "# Simulation with QASM"
   ]
  },
  {
   "cell_type": "code",
   "execution_count": 113,
   "metadata": {},
   "outputs": [],
   "source": [
    "# Simulate the circuit using the qasm simulator\n",
    "backend = Aer.get_backend('qasm_simulator')\n",
    "\n",
    "# Run the job with only a single shot\n",
    "circuit = transpile(gc, backend)\n",
    "job = backend.run(circuit, shots=1)\n",
    "\n",
    "result = job.result()"
   ]
  },
  {
   "cell_type": "code",
   "execution_count": 114,
   "metadata": {},
   "outputs": [
    {
     "data": {
      "text/plain": [
       "{'11': 1}"
      ]
     },
     "execution_count": 114,
     "metadata": {},
     "output_type": "execute_result"
    }
   ],
   "source": [
    "# Get the counts of the circuit\n",
    "counts = result.get_counts()\n",
    "counts"
   ]
  }
 ],
 "metadata": {
  "kernelspec": {
   "display_name": "qiskit_env",
   "language": "python",
   "name": "python3"
  },
  "language_info": {
   "codemirror_mode": {
    "name": "ipython",
    "version": 3
   },
   "file_extension": ".py",
   "mimetype": "text/x-python",
   "name": "python",
   "nbconvert_exporter": "python",
   "pygments_lexer": "ipython3",
   "version": "3.1.-1"
  }
 },
 "nbformat": 4,
 "nbformat_minor": 2
}
